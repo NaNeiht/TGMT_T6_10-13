{
 "cells": [
  {
   "cell_type": "code",
   "execution_count": 5,
   "id": "d753436c-0b57-4049-bcdb-1ee062d38817",
   "metadata": {
    "scrolled": true
   },
   "outputs": [],
   "source": [
    "#!pip install opencv-python"
   ]
  },
  {
   "cell_type": "code",
   "execution_count": 5,
   "id": "97fa5199-c3d0-4a82-bef1-5ff03600435a",
   "metadata": {},
   "outputs": [],
   "source": [
    "def display(tit, img):\n",
    "    cv2.imshow(tit, img)\n",
    "    # Cho 1 khoang thoi gian\n",
    "    cv2.waitKey(0)\n",
    "    # Close window\n",
    "    cv2.destroyWindow(tit)"
   ]
  },
  {
   "cell_type": "code",
   "execution_count": 6,
   "id": "f93c2f81-6f35-42e3-855f-55f5f8695cce",
   "metadata": {},
   "outputs": [],
   "source": [
    "#import thu vien\n",
    "import cv2"
   ]
  },
  {
   "cell_type": "code",
   "execution_count": 7,
   "id": "420334fe-1acc-46ea-946e-f2405edf46dd",
   "metadata": {
    "scrolled": true
   },
   "outputs": [
    {
     "name": "stdout",
     "output_type": "stream",
     "text": [
      "[[[ 61  61  61]\n",
      "  [ 50  50  50]\n",
      "  [ 49  49  49]\n",
      "  ...\n",
      "  [220 220 220]\n",
      "  [221 221 221]\n",
      "  [225 225 225]]\n",
      "\n",
      " [[ 40  40  40]\n",
      "  [ 39  39  39]\n",
      "  [ 41  41  41]\n",
      "  ...\n",
      "  [219 219 219]\n",
      "  [219 219 219]\n",
      "  [223 223 223]]\n",
      "\n",
      " [[ 49  49  49]\n",
      "  [ 41  41  41]\n",
      "  [ 40  40  40]\n",
      "  ...\n",
      "  [222 222 222]\n",
      "  [221 221 221]\n",
      "  [223 223 223]]\n",
      "\n",
      " ...\n",
      "\n",
      " [[ 49  49  49]\n",
      "  [ 41  41  41]\n",
      "  [ 40  40  40]\n",
      "  ...\n",
      "  [225 226 230]\n",
      "  [221 222 226]\n",
      "  [232 232 238]]\n",
      "\n",
      " [[ 40  40  40]\n",
      "  [ 39  39  39]\n",
      "  [ 41  41  41]\n",
      "  ...\n",
      "  [224 225 229]\n",
      "  [222 223 227]\n",
      "  [232 233 237]]\n",
      "\n",
      " [[ 61  61  61]\n",
      "  [ 50  50  50]\n",
      "  [ 49  49  49]\n",
      "  ...\n",
      "  [223 224 228]\n",
      "  [227 228 232]\n",
      "  [240 241 245]]]\n"
     ]
    }
   ],
   "source": [
    "path = 'C:/Users/AnImg/arlecchino.JPG'\n",
    "img = cv2.imread(path)\n",
    "print(img)"
   ]
  },
  {
   "cell_type": "code",
   "execution_count": 8,
   "id": "94048b5a-b538-4d6c-8fe0-892a884387ed",
   "metadata": {},
   "outputs": [
    {
     "name": "stdout",
     "output_type": "stream",
     "text": [
      "(1000, 1000, 3)\n",
      "1000\n",
      "1000\n",
      "3\n"
     ]
    }
   ],
   "source": [
    "# Lay kich thuoc\n",
    "print(img.shape)\n",
    "x,y,z = img.shape\n",
    "print(x)\n",
    "print(y)\n",
    "print(z)"
   ]
  },
  {
   "cell_type": "code",
   "execution_count": 9,
   "id": "12e0d04f-6c94-459b-996a-9c2c1a57fbfb",
   "metadata": {},
   "outputs": [],
   "source": [
    "#Hien thi anh \n",
    "cv2.imshow('Window', img)\n",
    "# Wait\n",
    "cv2.waitKey(10000)\n",
    "# close\n",
    "cv2.destroyWindow('Window')"
   ]
  },
  {
   "cell_type": "code",
   "execution_count": 10,
   "id": "212d6ce7-c2fa-49c0-bb8f-5f6037361bbe",
   "metadata": {},
   "outputs": [],
   "source": [
    "#Split\n",
    "r, g, b = cv2.split(img)\n",
    "cv2.imshow('Window', img)\n",
    "cv2.imshow('Red',r)\n",
    "cv2.imshow('Green',g)\n",
    "cv2.imshow('Blue',b)\n",
    "\n",
    "# Wait\n",
    "cv2.waitKey(0)\n",
    "# Close\n",
    "cv2.destroyAllWindows()"
   ]
  },
  {
   "cell_type": "code",
   "execution_count": 11,
   "id": "588895eb-8511-481c-b5b1-81e9e46e165b",
   "metadata": {},
   "outputs": [],
   "source": [
    "gray_img = cv2.cvtColor(img, cv2.COLOR_BGR2GRAY)\n",
    "img_2 = cv2.cvtColor(img, cv2.COLOR_BGR2RGB)\n",
    "cv2.imshow('Window', img)\n",
    "cv2.imshow('gray_img', gray_img)\n",
    "cv2.imshow('img_2', img_2)\n",
    "# Wait\n",
    "cv2.waitKey(0)\n",
    "# Close\n",
    "cv2.destroyAllWindows()"
   ]
  },
  {
   "cell_type": "code",
   "execution_count": null,
   "id": "8c331e86-7991-4697-a6df-2013c182658e",
   "metadata": {},
   "outputs": [],
   "source": [
    "# Thay doi thong so cua diem anh\n",
    "height, width, z = img.shape\n",
    "quater_h = height/2\n",
    "quater_w = width/2\n",
    "\n",
    "# mau xanh\n",
    "blue_color = (255,0,0)\n",
    "\n",
    "#copy anh\n",
    "img_2 = img.copy()\n",
    "\n",
    "# doi mau anh\n",
    "for y in range(int(quater_h)):\n",
    "    for x in range(int(quater_w)):\n",
    "        img_2[y, x] = blue_color\n",
    "#display\n",
    "display('Window-2', img_2)"
   ]
  },
  {
   "cell_type": "code",
   "execution_count": null,
   "id": "b2b75b94-6d85-48a0-acfb-dc219c037649",
   "metadata": {},
   "outputs": [],
   "source": []
  }
 ],
 "metadata": {
  "kernelspec": {
   "display_name": "Python 3 (ipykernel)",
   "language": "python",
   "name": "python3"
  },
  "language_info": {
   "codemirror_mode": {
    "name": "ipython",
    "version": 3
   },
   "file_extension": ".py",
   "mimetype": "text/x-python",
   "name": "python",
   "nbconvert_exporter": "python",
   "pygments_lexer": "ipython3",
   "version": "3.12.4"
  }
 },
 "nbformat": 4,
 "nbformat_minor": 5
}
