{
 "cells": [
  {
   "cell_type": "code",
   "execution_count": 1,
   "id": "fd4a2f0b-efbd-4e09-8146-40bad4ad2075",
   "metadata": {},
   "outputs": [],
   "source": [
    "import cv2\n",
    "import time"
   ]
  },
  {
   "cell_type": "code",
   "execution_count": 2,
   "id": "3105f1f2-d721-4bf6-be45-ffc68898e539",
   "metadata": {},
   "outputs": [],
   "source": [
    "# Doc video tu file\n",
    "my_video = cv2.VideoCapture('C:/Users/AnImg/illo.mp4')"
   ]
  },
  {
   "cell_type": "code",
   "execution_count": 3,
   "id": "d616dbd5-a009-45b2-83c9-ef139e7a8c62",
   "metadata": {},
   "outputs": [],
   "source": [
    "cv2.namedWindow('Video Player', cv2.WINDOW_NORMAL)"
   ]
  },
  {
   "cell_type": "code",
   "execution_count": 7,
   "id": "52d83c3a-3458-4c4e-b94f-913050db2eba",
   "metadata": {},
   "outputs": [],
   "source": [
    "# Ghi text tren hinh anh\n",
    "font = cv2.FONT_HERSHEY_SIMPLEX\n",
    "font_color = (255, 255, 255)\n",
    "font_scale = 2\n",
    "font_thickness = 2"
   ]
  },
  {
   "cell_type": "code",
   "execution_count": null,
   "id": "20a833f4-f35d-48ec-a693-f29d10ab4c74",
   "metadata": {},
   "outputs": [],
   "source": [
    "\n",
    "while True:\n",
    "    # Thời gian trước khi đọc\n",
    "    start_time = time.time()\n",
    "    \n",
    "    # Đọc 1 frame\n",
    "    ret, frame = my_video.read()\n",
    "    \n",
    "    # Thoát khi không thể đọc được frame\n",
    "    if not ret:\n",
    "        break\n",
    "    \n",
    "    # Thời gian sau khi đọc\n",
    "    end_time = time.time()\n",
    "    \n",
    "    # Tính toán thời gian giữa các frames\n",
    "    time_diff = end_time - start_time\n",
    "    \n",
    "    # Tránh chia cho 0 hoặc thời gian quá nhỏ\n",
    "    if time_diff > 0:\n",
    "        fps = 1 / time_diff\n",
    "    else:\n",
    "        fps = 0\n",
    "    \n",
    "    # Ghi số lượng fps lên frame\n",
    "    cv2.putText(frame, f'FPS: {fps:.2f}', (100, 100), font, font_scale, font_color, font_thickness)\n",
    "    \n",
    "    # Hiển thị frame\n",
    "    cv2.imshow('Video Player', frame)\n",
    "    \n",
    "    if cv2.waitKey(10) == ord('q'):\n",
    "        break\n",
    "\n",
    "# Hủy bỏ player\n",
    "my_video.release()\n",
    "cv2.destroyAllWindows()\n"
   ]
  },
  {
   "cell_type": "code",
   "execution_count": null,
   "id": "4774fcad-fa80-4150-af1b-f60af7e77402",
   "metadata": {},
   "outputs": [],
   "source": []
  }
 ],
 "metadata": {
  "kernelspec": {
   "display_name": "Python 3 (ipykernel)",
   "language": "python",
   "name": "python3"
  },
  "language_info": {
   "codemirror_mode": {
    "name": "ipython",
    "version": 3
   },
   "file_extension": ".py",
   "mimetype": "text/x-python",
   "name": "python",
   "nbconvert_exporter": "python",
   "pygments_lexer": "ipython3",
   "version": "3.12.4"
  }
 },
 "nbformat": 4,
 "nbformat_minor": 5
}
