{
 "cells": [
  {
   "cell_type": "code",
   "execution_count": 1,
   "id": "3fc490ec-1257-4b3a-8bb4-29991a4ddf76",
   "metadata": {},
   "outputs": [],
   "source": [
    "import cv2"
   ]
  },
  {
   "cell_type": "code",
   "execution_count": 3,
   "id": "49e9b3b4-4ace-4fe9-9330-9d5f1d2c70d8",
   "metadata": {},
   "outputs": [],
   "source": [
    "#Doc video tu file\n",
    "my_video = cv2.VideoCapture('C:/Users/AnImg/illo.mp4')"
   ]
  },
  {
   "cell_type": "code",
   "execution_count": 5,
   "id": "7d9a4a7d-0789-4162-b83e-76301ebfa773",
   "metadata": {},
   "outputs": [],
   "source": [
    "# Tao cua so de hien thi video\n",
    "cv2.namedWindow('Video Player', cv2.WINDOW_NORMAL)"
   ]
  },
  {
   "cell_type": "code",
   "execution_count": 8,
   "id": "48318cde-052f-410b-bd91-c820f4a5424e",
   "metadata": {},
   "outputs": [],
   "source": [
    "# Hien thi tung khung anh\n",
    "while True:\n",
    "    # Doc 1 frame\n",
    "    ret, frame = my_video.read()\n",
    "    #Thoat khi khong doc duoc\n",
    "    if not ret:\n",
    "        break\n",
    "\n",
    "    #Hien thi\n",
    "    cv2.imshow('Video Player', frame)\n",
    "\n",
    "    if(cv2.waitKey(10)==ord('q')):\n",
    "        break"
   ]
  },
  {
   "cell_type": "code",
   "execution_count": 9,
   "id": "4cacbadd-368b-43e7-a892-2bcbe5d21140",
   "metadata": {},
   "outputs": [],
   "source": [
    "#Huy bo player\n",
    "my_video.release\n",
    "cv2.destroyAllWindows()"
   ]
  },
  {
   "cell_type": "code",
   "execution_count": null,
   "id": "a22474cd-fcb9-4758-9fd6-c35342b142dc",
   "metadata": {},
   "outputs": [],
   "source": []
  }
 ],
 "metadata": {
  "kernelspec": {
   "display_name": "Python 3 (ipykernel)",
   "language": "python",
   "name": "python3"
  },
  "language_info": {
   "codemirror_mode": {
    "name": "ipython",
    "version": 3
   },
   "file_extension": ".py",
   "mimetype": "text/x-python",
   "name": "python",
   "nbconvert_exporter": "python",
   "pygments_lexer": "ipython3",
   "version": "3.12.4"
  }
 },
 "nbformat": 4,
 "nbformat_minor": 5
}
