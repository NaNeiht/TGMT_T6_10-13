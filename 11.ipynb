{
 "cells": [
  {
   "cell_type": "code",
   "execution_count": 1,
   "id": "3bfbfea1-2557-4545-ae55-b9bee9ad7261",
   "metadata": {},
   "outputs": [],
   "source": [
    "import numpy as np\n"
   ]
  },
  {
   "cell_type": "code",
   "execution_count": 2,
   "id": "01f99173-add9-4328-879b-1c73aab9275e",
   "metadata": {},
   "outputs": [
    {
     "name": "stdout",
     "output_type": "stream",
     "text": [
      "[1 2 3]\n",
      "2\n"
     ]
    }
   ],
   "source": [
    "#Tao mang\n",
    "a = np.array([1,2,3])\n",
    "\n",
    "#In mang\n",
    "print(a)\n",
    "\n",
    "#In ra 1 phan tu\n",
    "element = a[1]\n",
    "print(element)"
   ]
  },
  {
   "cell_type": "code",
   "execution_count": 3,
   "id": "d10ba90d-8d8d-4095-8c3f-6759eee63924",
   "metadata": {},
   "outputs": [
    {
     "name": "stdout",
     "output_type": "stream",
     "text": [
      "Matrix:\n",
      "[[1 2 3]\n",
      " [4 5 6]\n",
      " [7 8 9]]\n",
      "6\n"
     ]
    }
   ],
   "source": [
    "#Tao mang 2 chieu\n",
    "matrix = np.array([[1,2,3], [4,5,6], [7,8,9]])\n",
    "print(\"Matrix:\")\n",
    "print(matrix)\n",
    "\n",
    "#In mot phan tu\n",
    "element = matrix [1,2]\n",
    "print(element)"
   ]
  },
  {
   "cell_type": "code",
   "execution_count": 4,
   "id": "51073e8c-45d1-40ba-834e-c91c7318a106",
   "metadata": {},
   "outputs": [
    {
     "name": "stdout",
     "output_type": "stream",
     "text": [
      "[0. 0. 0. 0. 0.]\n",
      "[1. 1. 1. 1. 1. 1. 1. 1. 1. 1. 1. 1.]\n",
      "[0. 0. 0. 0. 0.]\n",
      "[ 0  1  2  3  4  5  6  7  8  9 10 11 12 13 14 15 16 17 18 19 20 21 22 23\n",
      " 24 25 26 27 28 29 30 31 32 33 34 35 36 37 38 39 40 41 42 43 44 45 46 47\n",
      " 48 49 50 51 52 53 54 55 56 57 58 59 60 61 62 63 64 65 66 67 68 69 70 71\n",
      " 72 73 74 75 76 77 78 79 80 81 82 83 84 85 86 87 88 89 90 91 92 93 94 95\n",
      " 96 97 98 99]\n",
      "[ 0.   2.5  5.   7.5 10. ]\n"
     ]
    },
    {
     "data": {
      "text/plain": [
       "array([1, 1, 1, 1, 1], dtype=int64)"
      ]
     },
     "execution_count": 4,
     "metadata": {},
     "output_type": "execute_result"
    }
   ],
   "source": [
    "#Cach tao mang\n",
    "#Tao mang full 0\n",
    "a = np.zeros(5)\n",
    "print(a)\n",
    "\n",
    "# Tao mang full 1\n",
    "a = np.ones(12)\n",
    "print(a)\n",
    "\n",
    "#Tao mang \n",
    "a = np.empty(5)\n",
    "print(a)\n",
    "\n",
    "#Tao mang 0 -> 100\n",
    "a = np.arange(100)\n",
    "print(a)\n",
    "\n",
    "# Tao mang gom cac phan tu voi khoang cach deu nhau\n",
    "a = np.linspace(0, 10, num=5)\n",
    "print(a)\n",
    "\n",
    "#Xac dinh kieu du lieu\n",
    "a = np.ones(5, dtype = np.int64)\n",
    "a"
   ]
  },
  {
   "cell_type": "code",
   "execution_count": 5,
   "id": "df88b098-4cf2-49b7-84c8-dc11fc01cccb",
   "metadata": {},
   "outputs": [
    {
     "name": "stdout",
     "output_type": "stream",
     "text": [
      "[3 1 2 4 5]\n"
     ]
    }
   ],
   "source": [
    "#Them xoa sap xep mang\n",
    "\n",
    "#Tao mang\n",
    "arr = np.array([3, 1,2,4,5])\n",
    "print(arr)"
   ]
  },
  {
   "cell_type": "code",
   "execution_count": 6,
   "id": "de7f133d-afc7-4e55-9652-7fcb693b0c45",
   "metadata": {},
   "outputs": [
    {
     "name": "stdout",
     "output_type": "stream",
     "text": [
      "[1 2 3 4 5]\n"
     ]
    }
   ],
   "source": [
    "arr = np.sort(arr)\n",
    "print(arr)"
   ]
  },
  {
   "cell_type": "code",
   "execution_count": 7,
   "id": "8bd8abf3-3298-44eb-a93d-4438d520f566",
   "metadata": {},
   "outputs": [
    {
     "name": "stdout",
     "output_type": "stream",
     "text": [
      "[5 4 3 2 1]\n"
     ]
    }
   ],
   "source": [
    "#sap xep nguoc\n",
    "arr = np.sort(arr)[::-1]\n",
    "print(arr)"
   ]
  },
  {
   "cell_type": "code",
   "execution_count": 8,
   "id": "e0d899ac-e7cf-4115-babf-552c51567dd9",
   "metadata": {},
   "outputs": [
    {
     "name": "stdout",
     "output_type": "stream",
     "text": [
      "[  5   4   3   2   1 100]\n"
     ]
    }
   ],
   "source": [
    "#them phan tu vao mang\n",
    "arr = np.append(arr, 100)\n",
    "print(arr)"
   ]
  },
  {
   "cell_type": "code",
   "execution_count": 9,
   "id": "5cb0adcc-917f-49c3-8fb8-85601e1fad5a",
   "metadata": {},
   "outputs": [
    {
     "name": "stdout",
     "output_type": "stream",
     "text": [
      "[  5   4   3   1 100]\n"
     ]
    }
   ],
   "source": [
    "#Xoa di mot vi tri trong mang\n",
    "arr = np.delete(arr,3)\n",
    "print(arr)"
   ]
  },
  {
   "cell_type": "code",
   "execution_count": 11,
   "id": "0afd626f-8e6c-49ff-b229-4eb0f6cd17a9",
   "metadata": {},
   "outputs": [
    {
     "name": "stdout",
     "output_type": "stream",
     "text": [
      "[[1 2 3]\n",
      " [4 6 8]\n",
      " [5 7 9]]\n",
      "[[3 1 2]\n",
      " [4 6 5]\n",
      " [9 7 8]]\n"
     ]
    }
   ],
   "source": [
    "\n",
    "# Tao mang 2 chieu\n",
    "arr = np.array([[3, 1, 2],\n",
    "                [4, 6, 8],\n",
    "                [9, 7, 5]])\n",
    "\n",
    "sap_xep_theo_hang = np.sort(arr, axis=1) #tangdan\n",
    "print(sap_xep_theo_hang)\n",
    "\n",
    "sap_xep_theo_cot = np.sort(arr, axis=0)\n",
    "print(sap_xep_theo_cot)"
   ]
  },
  {
   "cell_type": "code",
   "execution_count": 12,
   "id": "41a391e5-c856-4279-989d-00776c166a48",
   "metadata": {},
   "outputs": [
    {
     "name": "stdout",
     "output_type": "stream",
     "text": [
      "[[3 2 1]\n",
      " [8 6 4]\n",
      " [9 7 5]]\n",
      "[[9 7 8]\n",
      " [4 6 5]\n",
      " [3 1 2]]\n"
     ]
    }
   ],
   "source": [
    "\n",
    "arr = np.array([[3, 1, 2],\n",
    "                [4, 6, 8],\n",
    "                [9, 7, 5]])\n",
    "\n",
    "sap_xep_theo_hang = -np.sort(-arr, axis=1) #giam dan\n",
    "print(sap_xep_theo_hang)\n",
    "\n",
    "sap_xep_theo_cot = -np.sort(-arr, axis=0)\n",
    "print(sap_xep_theo_cot)"
   ]
  },
  {
   "cell_type": "code",
   "execution_count": 14,
   "id": "d645c76d-019f-43f6-984c-f65c16150428",
   "metadata": {},
   "outputs": [
    {
     "name": "stdout",
     "output_type": "stream",
     "text": [
      "So chieu: 2\n",
      "Kich thuoc: 6\n",
      "Hinh dang (2, 3)\n"
     ]
    }
   ],
   "source": [
    "#Tao mot mang 2D\n",
    "arr = np.array([[1,2,3],[4,5,6]])\n",
    "# Su dung cac thuoc tinh de lay thong tin mang\n",
    "so_chieu = arr.ndim # So chieu (2D)\n",
    "kich_thuoc = arr.size # Kich thuoc (tong so phan tu, 6)\n",
    "hinh_dang = arr.shape #Hinh dang (So hang x so cot)\n",
    "\n",
    "print(\"So chieu:\", so_chieu)\n",
    "print(\"Kich thuoc:\", kich_thuoc)\n",
    "print(\"Hinh dang\", hinh_dang)"
   ]
  },
  {
   "cell_type": "code",
   "execution_count": 16,
   "id": "30e17054-43da-4e0f-8607-bddc08e66757",
   "metadata": {},
   "outputs": [
    {
     "name": "stdout",
     "output_type": "stream",
     "text": [
      "[1. 2. 3. 4. 5.]\n"
     ]
    }
   ],
   "source": [
    "#Chuyen do kieu du lieu\n",
    "arr = np.array([1,2,3,4,5])\n",
    "arr_float = arr.astype(float)\n",
    "print(arr_float)"
   ]
  },
  {
   "cell_type": "code",
   "execution_count": 17,
   "id": "1c00b877-8021-4660-aab5-c1f6e819120e",
   "metadata": {},
   "outputs": [
    {
     "name": "stdout",
     "output_type": "stream",
     "text": [
      "[[1 2 3]\n",
      " [4 5 6]]\n",
      "[[1 2]\n",
      " [3 4]\n",
      " [5 6]]\n"
     ]
    }
   ],
   "source": [
    "# Thay doi hinh dang mang\n",
    "arr = np.array([1, 2, 3, 4, 5, 6])\n",
    "reshaped_arr = arr.reshape(2,3)\n",
    "print(reshaped_arr)\n",
    "reshaped_arr = arr.reshape(3,2)\n",
    "print(reshaped_arr)"
   ]
  },
  {
   "cell_type": "code",
   "execution_count": 18,
   "id": "53d9e41b-eacb-4067-b259-1547902eef01",
   "metadata": {},
   "outputs": [
    {
     "name": "stdout",
     "output_type": "stream",
     "text": [
      "[1 2 3 4 5 6]\n"
     ]
    }
   ],
   "source": [
    "reshaped_arr = reshaped_arr.flatten() # Chuyển thành mảng 1 chiều\n",
    "print(reshaped_arr)"
   ]
  },
  {
   "cell_type": "code",
   "execution_count": 28,
   "id": "7a5bddf1-f9d2-4e7a-8c91-0d4cb66d3ce8",
   "metadata": {},
   "outputs": [
    {
     "name": "stdout",
     "output_type": "stream",
     "text": [
      "[2 3 4]\n",
      "[1 2 3 4]\n",
      "[4 5]\n",
      "[5]\n"
     ]
    }
   ],
   "source": [
    "# Cat lat mang\n",
    "arr = np.array([1, 2, 3, 4, 5])\n",
    "\n",
    "sub_arr = arr[1:4]  #\n",
    "print(sub_arr) # 2 3 4 5\n",
    "\n",
    "sub_arr = arr[:-1]  # 1 2 3 4\n",
    "print(sub_arr)\n",
    "\n",
    "sub_arr = arr[-2:]  # 4 5 \n",
    "print(sub_arr)\n",
    "\n",
    "sub_arr = arr[-1:]   \n",
    "print(sub_arr)"
   ]
  },
  {
   "cell_type": "code",
   "execution_count": 29,
   "id": "87e89446-eb9e-43fb-a6ed-433fc741ccc2",
   "metadata": {},
   "outputs": [
    {
     "name": "stdout",
     "output_type": "stream",
     "text": [
      "[[1 2 3]\n",
      " [4 5 6]]\n",
      "[[1 4]\n",
      " [2 5]\n",
      " [3 6]]\n"
     ]
    }
   ],
   "source": [
    "#Chuyen vi mang\n",
    "arr = np.array([[1,2,3], [4,5,6]])\n",
    "print(arr)\n",
    "\n",
    "transposed_arr = arr.T\n",
    "print(transposed_arr)"
   ]
  },
  {
   "cell_type": "code",
   "execution_count": 30,
   "id": "8cccf2cb-d83a-4831-8ff1-c3a6f5347f99",
   "metadata": {},
   "outputs": [
    {
     "name": "stdout",
     "output_type": "stream",
     "text": [
      "[1 2 3 4 5 6]\n"
     ]
    }
   ],
   "source": [
    "#Noi mang\n",
    "arr1 = np.array([1, 2, 3])\n",
    "arr2 = np.array([4, 5, 6])\n",
    "arr = np.concatenate((arr1, arr2))\n",
    "print(arr)"
   ]
  },
  {
   "cell_type": "code",
   "execution_count": 32,
   "id": "1193cb7c-171f-4c63-bb03-d6749601cd82",
   "metadata": {},
   "outputs": [
    {
     "name": "stdout",
     "output_type": "stream",
     "text": [
      "Tong cua mang: 15\n",
      "Gia tri trung binh 3.0\n",
      "Max: 5\n",
      "Min: 1\n",
      "Do lech chuan: 1.4142135623730951\n",
      "Phuong sai cua mang 2.0\n",
      "Tong tich chap: 32\n"
     ]
    }
   ],
   "source": [
    "\n",
    "# Ham tinh tong (Sum)\n",
    "arr = np.array([1, 2, 3, 4, 5])\n",
    "total = np.sum(arr)\n",
    "print(\"Tong cua mang:\", total)\n",
    "\n",
    "# Tinh trung binh (Mean)\n",
    "average = np.mean(arr)\n",
    "print(\"Gia tri trung binh\", average)\n",
    "\n",
    "# Max min\n",
    "max_value = np.max(arr)\n",
    "min_value = np.min(arr)\n",
    "print(\"Max:\", max_value)\n",
    "print(\"Min:\", min_value)\n",
    "\n",
    "# Do lech chuan\n",
    "std_deviation = np.std(arr)\n",
    "print(\"Do lech chuan:\", std_deviation)\n",
    "\n",
    "# Ham tinh phuong sai\n",
    "variance = np.var(arr)\n",
    "print(\"Phuong sai cua mang\", variance)\n",
    "\n",
    "# Tinh tong tich chap\n",
    "arr1 = np.array([1, 2, 3])\n",
    "arr2 = np.array([4, 5, 6])\n",
    "dot_product = np.dot(arr1, arr2)\n",
    "print(\"Tong tich chap:\", dot_product)"
   ]
  },
  {
   "cell_type": "code",
   "execution_count": null,
   "id": "c497aa8c-893c-4340-a008-8d45c4599ed9",
   "metadata": {},
   "outputs": [],
   "source": []
  }
 ],
 "metadata": {
  "kernelspec": {
   "display_name": "Python 3 (ipykernel)",
   "language": "python",
   "name": "python3"
  },
  "language_info": {
   "codemirror_mode": {
    "name": "ipython",
    "version": 3
   },
   "file_extension": ".py",
   "mimetype": "text/x-python",
   "name": "python",
   "nbconvert_exporter": "python",
   "pygments_lexer": "ipython3",
   "version": "3.12.4"
  }
 },
 "nbformat": 4,
 "nbformat_minor": 5
}
