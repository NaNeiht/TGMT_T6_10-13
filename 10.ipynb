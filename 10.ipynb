{
 "cells": [
  {
   "cell_type": "code",
   "execution_count": 1,
   "id": "a8b101f1-6b01-4b6e-b0a1-ab1e36ce0df1",
   "metadata": {},
   "outputs": [],
   "source": [
    "# import\n",
    "from PIL import Image\n",
    "import matplotlib.pyplot as plt"
   ]
  },
  {
   "cell_type": "code",
   "execution_count": 2,
   "id": "9172927d-c7c3-4393-ac02-213079aa8a1a",
   "metadata": {},
   "outputs": [],
   "source": [
    "# Đường dẫn ảnh\n",
    "my_path = 'C:/Users/AnImg/messiwc.JPG'\n",
    "#Doc Anh\n",
    "im = Image.open(my_path)"
   ]
  },
  {
   "cell_type": "code",
   "execution_count": 3,
   "id": "d440efe0-706a-4733-b468-01071d2a9d96",
   "metadata": {},
   "outputs": [],
   "source": [
    "# Chuyen doi backend\n",
    "plt.switch_backend('tkagg')"
   ]
  },
  {
   "cell_type": "code",
   "execution_count": 4,
   "id": "fbd919f9-8291-43fe-93df-f34d1f2be1bc",
   "metadata": {},
   "outputs": [
    {
     "name": "stdout",
     "output_type": "stream",
     "text": [
      "[(194.1785714285715, 264.2012987012987), (269.8441558441559, 228.29220779220776), (335.25000000000017, 296.262987012987), (309.60064935064946, 384.7532467532468), (324.99025974025983, 473.2435064935065)]\n"
     ]
    }
   ],
   "source": [
    "#Hien thi anh\n",
    "plt.imshow(im)\n",
    "plt.title('Click on the image to select points')\n",
    "#Su dung ham ginput de chon diem tren anh\n",
    "points = plt.ginput(5)\n",
    "print(points)\n",
    "#Hien thi\n",
    "plt.show()"
   ]
  },
  {
   "cell_type": "code",
   "execution_count": 7,
   "id": "c6dcd2f8-df2b-4aff-82d0-489d75a2e048",
   "metadata": {},
   "outputs": [],
   "source": [
    "# Ve lai cac diem da chon \n",
    "plt.close()\n",
    "# Ve lai\n",
    "plt.imshow(im)\n",
    "for point in points:\n",
    "    x,y = point\n",
    "    plt.plot(x,y, 'b*')\n",
    "\n",
    "plt.show()"
   ]
  },
  {
   "cell_type": "code",
   "execution_count": null,
   "id": "0844a9d8-197e-4341-be8b-f1ef38bb6f2d",
   "metadata": {},
   "outputs": [],
   "source": []
  }
 ],
 "metadata": {
  "kernelspec": {
   "display_name": "Python 3 (ipykernel)",
   "language": "python",
   "name": "python3"
  },
  "language_info": {
   "codemirror_mode": {
    "name": "ipython",
    "version": 3
   },
   "file_extension": ".py",
   "mimetype": "text/x-python",
   "name": "python",
   "nbconvert_exporter": "python",
   "pygments_lexer": "ipython3",
   "version": "3.12.4"
  }
 },
 "nbformat": 4,
 "nbformat_minor": 5
}
