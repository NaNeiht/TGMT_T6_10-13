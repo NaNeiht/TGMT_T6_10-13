{
 "cells": [
  {
   "cell_type": "code",
   "execution_count": 2,
   "id": "e7c837e0-952d-4076-b47f-1025de604ecc",
   "metadata": {},
   "outputs": [],
   "source": [
    "#!pip install scipy"
   ]
  },
  {
   "cell_type": "code",
   "execution_count": 4,
   "id": "3407f241-084a-4e02-b34d-6e2283f046c8",
   "metadata": {},
   "outputs": [
    {
     "name": "stdout",
     "output_type": "stream",
     "text": [
      "Tich phan f(x) tu 0 den 3:  (16.5, 1.8318679906315083e-13)\n"
     ]
    }
   ],
   "source": [
    "# Tinh tich phan cua mot ham so\n",
    "from scipy import integrate\n",
    "\n",
    "# Dinh nghia f(x)=x^2\n",
    "def my_function(x):\n",
    "    return x**2+x+1;\n",
    "# Tinh tich phan cua f(x) tu 0 den 3 \n",
    "integral = integrate.quad(my_function, 0 , 3);\n",
    "print(\"Tich phan f(x) tu 0 den 3: \", integral)"
   ]
  },
  {
   "cell_type": "code",
   "execution_count": 5,
   "id": "9f305924-cc40-4b50-a3af-a4e878d30c83",
   "metadata": {},
   "outputs": [
    {
     "name": "stdout",
     "output_type": "stream",
     "text": [
      "Ket qua:  [-2.5  2. ]\n"
     ]
    }
   ],
   "source": [
    "#Giai he phuong trinh tuyen tinh\n",
    "from scipy import linalg\n",
    "import numpy as np\n",
    "\n",
    "# Dinh nghia he phuong trinh tuyen tinh\n",
    "A = np.array([[2,5], [2,6]])\n",
    "B = np.array([5,7])\n",
    "# Giai he phuong trinh tuyen tinh\n",
    "x = linalg.solve(A,B)\n",
    "print(\"Ket qua: \", x)\n",
    "\n"
   ]
  },
  {
   "cell_type": "code",
   "execution_count": 6,
   "id": "1ed13c87-c835-4226-9785-2f0da4852847",
   "metadata": {},
   "outputs": [
    {
     "name": "stdout",
     "output_type": "stream",
     "text": [
      "Giá trị riêng:  [4.+0.j 7.+0.j]\n",
      "Vector riêng:  [[-0.70710678 -0.4472136 ]\n",
      " [ 0.70710678 -0.89442719]]\n"
     ]
    }
   ],
   "source": [
    "from scipy import linalg\n",
    "import numpy as np\n",
    "\n",
    "# Tính giá trị riêng và vector riêng của một ma trận:\n",
    "A = np.array([[5,1], [2,6]])\n",
    "\n",
    "# Tính giá trị riêng và vector riêng của ma trận\n",
    "evals, evecs = linalg.eig(A)\n",
    "\n",
    "print(\"Giá trị riêng: \", evals)\n",
    "print(\"Vector riêng: \", evecs)"
   ]
  },
  {
   "cell_type": "code",
   "execution_count": null,
   "id": "21bc62ba-9188-4612-8336-2ad04351a464",
   "metadata": {},
   "outputs": [],
   "source": []
  }
 ],
 "metadata": {
  "kernelspec": {
   "display_name": "Python 3 (ipykernel)",
   "language": "python",
   "name": "python3"
  },
  "language_info": {
   "codemirror_mode": {
    "name": "ipython",
    "version": 3
   },
   "file_extension": ".py",
   "mimetype": "text/x-python",
   "name": "python",
   "nbconvert_exporter": "python",
   "pygments_lexer": "ipython3",
   "version": "3.12.4"
  }
 },
 "nbformat": 4,
 "nbformat_minor": 5
}
